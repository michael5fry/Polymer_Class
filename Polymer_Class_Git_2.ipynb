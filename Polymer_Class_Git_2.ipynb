{
 "cells": [
  {
   "cell_type": "code",
   "execution_count": 2,
   "id": "90d2ce91",
   "metadata": {},
   "outputs": [],
   "source": [
    "import pandas as pd\n",
    "import numpy as np\n",
    "import matplotlib.pyplot as plt\n",
    "import Polym_Class_Module as Polym_Class"
   ]
  },
  {
   "cell_type": "code",
   "execution_count": null,
   "id": "53833550",
   "metadata": {},
   "outputs": [],
   "source": []
  },
  {
   "cell_type": "code",
   "execution_count": 3,
   "id": "909f3a19",
   "metadata": {},
   "outputs": [
    {
     "data": {
      "text/html": [
       "<div>\n",
       "<style scoped>\n",
       "    .dataframe tbody tr th:only-of-type {\n",
       "        vertical-align: middle;\n",
       "    }\n",
       "\n",
       "    .dataframe tbody tr th {\n",
       "        vertical-align: top;\n",
       "    }\n",
       "\n",
       "    .dataframe thead th {\n",
       "        text-align: right;\n",
       "    }\n",
       "</style>\n",
       "<table border=\"1\" class=\"dataframe\">\n",
       "  <thead>\n",
       "    <tr style=\"text-align: right;\">\n",
       "      <th></th>\n",
       "      <th>K_points</th>\n",
       "      <th>1</th>\n",
       "      <th>2</th>\n",
       "      <th>3</th>\n",
       "      <th>4</th>\n",
       "      <th>5</th>\n",
       "      <th>6</th>\n",
       "      <th>7</th>\n",
       "      <th>8</th>\n",
       "      <th>9</th>\n",
       "      <th>...</th>\n",
       "      <th>457</th>\n",
       "      <th>458</th>\n",
       "      <th>459</th>\n",
       "      <th>460</th>\n",
       "      <th>461</th>\n",
       "      <th>462</th>\n",
       "      <th>463</th>\n",
       "      <th>464</th>\n",
       "      <th>465</th>\n",
       "      <th>466</th>\n",
       "    </tr>\n",
       "  </thead>\n",
       "  <tbody>\n",
       "    <tr>\n",
       "      <th>0</th>\n",
       "      <td>51.0</td>\n",
       "      <td>-388.007</td>\n",
       "      <td>-388.006</td>\n",
       "      <td>-387.979</td>\n",
       "      <td>-387.979</td>\n",
       "      <td>-277.077</td>\n",
       "      <td>-277.076</td>\n",
       "      <td>-277.011</td>\n",
       "      <td>-277.01</td>\n",
       "      <td>-276.611</td>\n",
       "      <td>...</td>\n",
       "      <td>21.722</td>\n",
       "      <td>21.778</td>\n",
       "      <td>21.953</td>\n",
       "      <td>22.016</td>\n",
       "      <td>22.210</td>\n",
       "      <td>22.214</td>\n",
       "      <td>22.531</td>\n",
       "      <td>22.557</td>\n",
       "      <td>22.643</td>\n",
       "      <td>22.796</td>\n",
       "    </tr>\n",
       "    <tr>\n",
       "      <th>1</th>\n",
       "      <td>50.0</td>\n",
       "      <td>-388.007</td>\n",
       "      <td>-388.006</td>\n",
       "      <td>-387.979</td>\n",
       "      <td>-387.979</td>\n",
       "      <td>-277.077</td>\n",
       "      <td>-277.076</td>\n",
       "      <td>-277.011</td>\n",
       "      <td>-277.01</td>\n",
       "      <td>-276.611</td>\n",
       "      <td>...</td>\n",
       "      <td>21.722</td>\n",
       "      <td>21.778</td>\n",
       "      <td>21.953</td>\n",
       "      <td>22.016</td>\n",
       "      <td>22.209</td>\n",
       "      <td>22.216</td>\n",
       "      <td>22.531</td>\n",
       "      <td>22.558</td>\n",
       "      <td>22.643</td>\n",
       "      <td>22.797</td>\n",
       "    </tr>\n",
       "    <tr>\n",
       "      <th>2</th>\n",
       "      <td>49.0</td>\n",
       "      <td>-388.007</td>\n",
       "      <td>-388.006</td>\n",
       "      <td>-387.979</td>\n",
       "      <td>-387.979</td>\n",
       "      <td>-277.077</td>\n",
       "      <td>-277.076</td>\n",
       "      <td>-277.011</td>\n",
       "      <td>-277.01</td>\n",
       "      <td>-276.611</td>\n",
       "      <td>...</td>\n",
       "      <td>21.722</td>\n",
       "      <td>21.778</td>\n",
       "      <td>21.953</td>\n",
       "      <td>22.016</td>\n",
       "      <td>22.207</td>\n",
       "      <td>22.217</td>\n",
       "      <td>22.529</td>\n",
       "      <td>22.560</td>\n",
       "      <td>22.643</td>\n",
       "      <td>22.798</td>\n",
       "    </tr>\n",
       "    <tr>\n",
       "      <th>3</th>\n",
       "      <td>48.0</td>\n",
       "      <td>-388.007</td>\n",
       "      <td>-388.006</td>\n",
       "      <td>-387.979</td>\n",
       "      <td>-387.979</td>\n",
       "      <td>-277.077</td>\n",
       "      <td>-277.076</td>\n",
       "      <td>-277.011</td>\n",
       "      <td>-277.01</td>\n",
       "      <td>-276.611</td>\n",
       "      <td>...</td>\n",
       "      <td>21.722</td>\n",
       "      <td>21.778</td>\n",
       "      <td>21.953</td>\n",
       "      <td>22.016</td>\n",
       "      <td>22.205</td>\n",
       "      <td>22.219</td>\n",
       "      <td>22.528</td>\n",
       "      <td>22.562</td>\n",
       "      <td>22.643</td>\n",
       "      <td>22.799</td>\n",
       "    </tr>\n",
       "    <tr>\n",
       "      <th>4</th>\n",
       "      <td>47.0</td>\n",
       "      <td>-388.007</td>\n",
       "      <td>-388.006</td>\n",
       "      <td>-387.979</td>\n",
       "      <td>-387.979</td>\n",
       "      <td>-277.077</td>\n",
       "      <td>-277.076</td>\n",
       "      <td>-277.011</td>\n",
       "      <td>-277.01</td>\n",
       "      <td>-276.611</td>\n",
       "      <td>...</td>\n",
       "      <td>21.722</td>\n",
       "      <td>21.778</td>\n",
       "      <td>21.953</td>\n",
       "      <td>22.016</td>\n",
       "      <td>22.203</td>\n",
       "      <td>22.221</td>\n",
       "      <td>22.526</td>\n",
       "      <td>22.564</td>\n",
       "      <td>22.644</td>\n",
       "      <td>22.800</td>\n",
       "    </tr>\n",
       "  </tbody>\n",
       "</table>\n",
       "<p>5 rows × 467 columns</p>\n",
       "</div>"
      ],
      "text/plain": [
       "   K_points        1        2        3        4        5        6        7  \\\n",
       "0      51.0 -388.007 -388.006 -387.979 -387.979 -277.077 -277.076 -277.011   \n",
       "1      50.0 -388.007 -388.006 -387.979 -387.979 -277.077 -277.076 -277.011   \n",
       "2      49.0 -388.007 -388.006 -387.979 -387.979 -277.077 -277.076 -277.011   \n",
       "3      48.0 -388.007 -388.006 -387.979 -387.979 -277.077 -277.076 -277.011   \n",
       "4      47.0 -388.007 -388.006 -387.979 -387.979 -277.077 -277.076 -277.011   \n",
       "\n",
       "        8        9  ...     457     458     459     460     461     462  \\\n",
       "0 -277.01 -276.611  ...  21.722  21.778  21.953  22.016  22.210  22.214   \n",
       "1 -277.01 -276.611  ...  21.722  21.778  21.953  22.016  22.209  22.216   \n",
       "2 -277.01 -276.611  ...  21.722  21.778  21.953  22.016  22.207  22.217   \n",
       "3 -277.01 -276.611  ...  21.722  21.778  21.953  22.016  22.205  22.219   \n",
       "4 -277.01 -276.611  ...  21.722  21.778  21.953  22.016  22.203  22.221   \n",
       "\n",
       "      463     464     465     466  \n",
       "0  22.531  22.557  22.643  22.796  \n",
       "1  22.531  22.558  22.643  22.797  \n",
       "2  22.529  22.560  22.643  22.798  \n",
       "3  22.528  22.562  22.643  22.799  \n",
       "4  22.526  22.564  22.644  22.800  \n",
       "\n",
       "[5 rows x 467 columns]"
      ]
     },
     "execution_count": 3,
     "metadata": {},
     "output_type": "execute_result"
    }
   ],
   "source": [
    "IDTBT_polymer = Polym_Class.polymer('IDTBT_v1_2.log')\n",
    "polym_2 = IDTBT_polymer.Outpout_to_DataFrame_coverted_shifted(51, 0, 1)\n",
    "polym_2.head()"
   ]
  },
  {
   "cell_type": "code",
   "execution_count": 4,
   "id": "6aeb5f77",
   "metadata": {},
   "outputs": [],
   "source": [
    "band_dict = {'DPPBTz' : [131,132,133,134], 'IDTBT':[229,230,231,232], 'P3HT':[47,48,49,50], 'PBTTT':[80,81,82,83]}\n"
   ]
  },
  {
   "cell_type": "code",
   "execution_count": 5,
   "id": "a73add18",
   "metadata": {},
   "outputs": [
    {
     "name": "stdout",
     "output_type": "stream",
     "text": [
      "-6.738\n"
     ]
    },
    {
     "data": {
      "text/html": [
       "<div>\n",
       "<style scoped>\n",
       "    .dataframe tbody tr th:only-of-type {\n",
       "        vertical-align: middle;\n",
       "    }\n",
       "\n",
       "    .dataframe tbody tr th {\n",
       "        vertical-align: top;\n",
       "    }\n",
       "\n",
       "    .dataframe thead th {\n",
       "        text-align: right;\n",
       "    }\n",
       "</style>\n",
       "<table border=\"1\" class=\"dataframe\">\n",
       "  <thead>\n",
       "    <tr style=\"text-align: right;\">\n",
       "      <th></th>\n",
       "      <th>Polym_name</th>\n",
       "      <th>J [eV]</th>\n",
       "      <th>eps_A [eV]</th>\n",
       "      <th>eps_D [eV]</th>\n",
       "    </tr>\n",
       "  </thead>\n",
       "  <tbody>\n",
       "    <tr>\n",
       "      <th>0</th>\n",
       "      <td>IDTBT VB</td>\n",
       "      <td>0.275205</td>\n",
       "      <td>-6.738</td>\n",
       "      <td>-6.687</td>\n",
       "    </tr>\n",
       "  </tbody>\n",
       "</table>\n",
       "</div>"
      ],
      "text/plain": [
       "  Polym_name    J [eV]  eps_A [eV]  eps_D [eV]\n",
       "0   IDTBT VB  0.275205      -6.738      -6.687"
      ]
     },
     "execution_count": 5,
     "metadata": {},
     "output_type": "execute_result"
    }
   ],
   "source": [
    "Polym_Class.DataFrame_for_coupling_J( [polym_2, 'cos', 229, 230])"
   ]
  },
  {
   "cell_type": "code",
   "execution_count": null,
   "id": "916df08a",
   "metadata": {},
   "outputs": [],
   "source": []
  },
  {
   "cell_type": "code",
   "execution_count": 6,
   "id": "008bb76b",
   "metadata": {},
   "outputs": [
    {
     "name": "stdout",
     "output_type": "stream",
     "text": [
      "-6.738\n",
      "-6.738\n",
      "-6.738\n",
      "-1.155\n",
      "-1.155\n",
      "-1.155\n"
     ]
    },
    {
     "data": {
      "image/png": "[encoded data removed]",
      "text/plain": [
       "<Figure size 750x650 with 1 Axes>"
      ]
     },
     "metadata": {},
     "output_type": "display_data"
    }
   ],
   "source": [
    "title = 'IDTBT'\n",
    "trig_func = 'cos'\n",
    "VB_band = 230\n",
    "CB_band = 231\n",
    "Polym_Class.plotting_to_MODIFY(title, polym_2, trig_func, VB_band, CB_band)"
   ]
  },
  {
   "cell_type": "code",
   "execution_count": null,
   "id": "ecb059e9",
   "metadata": {},
   "outputs": [],
   "source": []
  },
  {
   "cell_type": "code",
   "execution_count": null,
   "id": "f6d86fdf",
   "metadata": {},
   "outputs": [],
   "source": []
  },
  {
   "cell_type": "markdown",
   "id": "149e934b",
   "metadata": {},
   "source": [
    "# PART 3 CALCULATION OF COEFFICIENTS CA AND CB"
   ]
  },
  {
   "cell_type": "code",
   "execution_count": 7,
   "id": "8f20b17c",
   "metadata": {},
   "outputs": [],
   "source": [
    "# 6-31G**\n",
    "# BASIS SET\n",
    "C = 15\n",
    "N = 15\n",
    "H = 5\n",
    "S = 19\n",
    "O = 15\n",
    "\n",
    "# SUM OF BASIS SET\n",
    "full_basis_set = 22*C + 12*H + 2*N + 2*O + 4*S\n",
    "\n",
    "basis_set_fragment1 = 10*H + 16*C + 2*N + 2*O + 2*S # FIRST\n",
    "basis_set_fragment2 = 2*H + 6*C + 2*S # SECOND\n"
   ]
  },
  {
   "cell_type": "markdown",
   "id": "54fd8de5",
   "metadata": {},
   "source": [
    "## Function to take the Column I (or Molecular Orbital e.g. HOMO) of Interest\n",
    "\n",
    "### It takes as input:\n",
    "\n",
    "1. `file_name` ( Hence the KP point to which you want to see the MO coefficients) ADD the *.file*\n",
    "2. `num_MO` The Number of the Molecular Orbital you are interested\n",
    "3. `full_basis_set` The number of Basis set in the Basis set you chose (Look above in the Basis Set check above it is the full_basis_set varible)\n",
    "4. `basis_set_fragment1` The Number of Basis function for the Fragment1 (IF more than 1 Fragment present modify code)"
   ]
  },
  {
   "cell_type": "code",
   "execution_count": 8,
   "id": "f86bc6d7",
   "metadata": {},
   "outputs": [
    {
     "name": "stdout",
     "output_type": "stream",
     "text": [
      " The coefficient for the Fragment1 is: 0.9501900900858804\n",
      " The coefficient for the Fragment2 is: 0.04980990087160814\n",
      " We can check that the summation bring to 1: 1.0\n"
     ]
    },
    {
     "data": {
      "text/plain": [
       "(0.95, 0.05)"
      ]
     },
     "execution_count": 8,
     "metadata": {},
     "output_type": "execute_result"
    }
   ],
   "source": [
    "file_name = 'IDTBT_v1_MO_kp0.dat'\n",
    "num_MO = 229 # HOMO-1\n",
    "full_basis_set = 1134\n",
    "basis_set_fragment1 = 32*H + 40*C + 0*N + 0*O + 4*S # FIRST\n",
    "\n",
    "Polym_Class.MO_coefficient_calculator(file_name, num_MO, full_basis_set,  basis_set_fragment1)"
   ]
  },
  {
   "cell_type": "code",
   "execution_count": null,
   "id": "f754755d",
   "metadata": {},
   "outputs": [],
   "source": []
  },
  {
   "cell_type": "code",
   "execution_count": 8,
   "id": "46882d32",
   "metadata": {},
   "outputs": [
    {
     "name": "stdout",
     "output_type": "stream",
     "text": [
      " The coefficient for the Fragment1 is: 0.9501900900858804\n",
      " The coefficient for the Fragment2 is: 0.04980990087160814\n",
      " We can check that the summation bring to 1: 1.0\n",
      " The coefficient for the Fragment1 is: 0.9262350015030214\n",
      " The coefficient for the Fragment2 is: 0.07376457438641719\n",
      " We can check that the summation bring to 1: 1.0\n",
      " The coefficient for the Fragment1 is: 0.8361394660147494\n",
      " The coefficient for the Fragment2 is: 0.1638604354192969\n",
      " We can check that the summation bring to 1: 1.0\n",
      " The coefficient for the Fragment1 is: 0.7111524594891036\n",
      " The coefficient for the Fragment2 is: 0.28884732257894397\n",
      " We can check that the summation bring to 1: 1.0\n"
     ]
    },
    {
     "data": {
      "text/html": [
       "<div>\n",
       "<style scoped>\n",
       "    .dataframe tbody tr th:only-of-type {\n",
       "        vertical-align: middle;\n",
       "    }\n",
       "\n",
       "    .dataframe tbody tr th {\n",
       "        vertical-align: top;\n",
       "    }\n",
       "\n",
       "    .dataframe thead th {\n",
       "        text-align: right;\n",
       "    }\n",
       "</style>\n",
       "<table border=\"1\" class=\"dataframe\">\n",
       "  <thead>\n",
       "    <tr style=\"text-align: right;\">\n",
       "      <th></th>\n",
       "      <th>MO</th>\n",
       "      <th>MO num</th>\n",
       "      <th>Coeff Frag1</th>\n",
       "      <th>Coeff Frag2</th>\n",
       "    </tr>\n",
       "  </thead>\n",
       "  <tbody>\n",
       "    <tr>\n",
       "      <th>0</th>\n",
       "      <td>HOMO-1</td>\n",
       "      <td>229</td>\n",
       "      <td>0.95</td>\n",
       "      <td>0.05</td>\n",
       "    </tr>\n",
       "    <tr>\n",
       "      <th>1</th>\n",
       "      <td>HOMO</td>\n",
       "      <td>230</td>\n",
       "      <td>0.93</td>\n",
       "      <td>0.07</td>\n",
       "    </tr>\n",
       "    <tr>\n",
       "      <th>2</th>\n",
       "      <td>LUMO</td>\n",
       "      <td>231</td>\n",
       "      <td>0.84</td>\n",
       "      <td>0.16</td>\n",
       "    </tr>\n",
       "    <tr>\n",
       "      <th>3</th>\n",
       "      <td>LUMO+1</td>\n",
       "      <td>232</td>\n",
       "      <td>0.71</td>\n",
       "      <td>0.29</td>\n",
       "    </tr>\n",
       "  </tbody>\n",
       "</table>\n",
       "</div>"
      ],
      "text/plain": [
       "       MO  MO num  Coeff Frag1  Coeff Frag2\n",
       "0  HOMO-1     229         0.95         0.05\n",
       "1    HOMO     230         0.93         0.07\n",
       "2    LUMO     231         0.84         0.16\n",
       "3  LUMO+1     232         0.71         0.29"
      ]
     },
     "execution_count": 8,
     "metadata": {},
     "output_type": "execute_result"
    }
   ],
   "source": [
    "file_name = 'IDTBT_v1_MO_kp0.dat'\n",
    "num_MO = 229 # HOMO-1\n",
    "full_basis_set = 1134\n",
    "basis_set_fragment1 = 32*H + 40*C + 0*N + 0*O + 4*S # FIRST\n",
    "\n",
    "coeff_1_list = []\n",
    "coeff_2_list = []\n",
    "\n",
    "for num_MO in band_dict['IDTBT']:\n",
    "    c1, c2 = Polym_Class.MO_coefficient_calculator(file_name, num_MO, full_basis_set,  basis_set_fragment1)\n",
    "    coeff_1_list.append(c1)\n",
    "    coeff_2_list.append(c2)\n",
    "\n",
    "df_coefficient = pd.DataFrame({'MO':['HOMO-1', 'HOMO', 'LUMO', 'LUMO+1'], 'MO num': band_dict['IDTBT'], \n",
    "             'Coeff Frag1': coeff_1_list, 'Coeff Frag2': coeff_2_list })\n",
    "df_coefficient"
   ]
  },
  {
   "cell_type": "code",
   "execution_count": null,
   "id": "306d5649",
   "metadata": {},
   "outputs": [],
   "source": []
  }
 ],
 "metadata": {
  "kernelspec": {
   "display_name": "Python 3 (ipykernel)",
   "language": "python",
   "name": "python3"
  },
  "language_info": {
   "codemirror_mode": {
    "name": "ipython",
    "version": 3
   },
   "file_extension": ".py",
   "mimetype": "text/x-python",
   "name": "python",
   "nbconvert_exporter": "python",
   "pygments_lexer": "ipython3",
   "version": "3.9.13"
  }
 },
 "nbformat": 4,
 "nbformat_minor": 5
}
